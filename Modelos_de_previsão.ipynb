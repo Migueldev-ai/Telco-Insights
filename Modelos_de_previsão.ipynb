{
  "nbformat": 4,
  "nbformat_minor": 0,
  "metadata": {
    "colab": {
      "provenance": []
    },
    "kernelspec": {
      "name": "python3",
      "display_name": "Python 3"
    },
    "language_info": {
      "name": "python"
    }
  },
  "cells": [
    {
      "cell_type": "code",
      "execution_count": null,
      "metadata": {
        "id": "5HiEOMehEGZi"
      },
      "outputs": [],
      "source": [
        "import matplotlib.pyplot as plt\n",
        "from matplotlib.ticker import FuncFormatter\n",
        "import seaborn as sns\n",
        "import pandas as pd\n",
        "import numpy as np\n",
        "from sklearn.model_selection import train_test_split\n",
        "from sklearn.linear_model import LinearRegression\n",
        "from sklearn.metrics import r2_score, mean_squared_error\n",
        "import joblib"
      ]
    },
    {
      "cell_type": "markdown",
      "source": [
        "## ⚙️ **Processamento** ⚙️"
      ],
      "metadata": {
        "id": "h08f6hHYEWmD"
      }
    },
    {
      "cell_type": "code",
      "source": [
        "df = pd.read_csv('/content/drive/MyDrive/Colab Notebooks/Spark/Telco-Churn.csv')"
      ],
      "metadata": {
        "id": "v5dxqyyHEVKh"
      },
      "execution_count": null,
      "outputs": []
    },
    {
      "cell_type": "code",
      "source": [
        "print(df.head().to_string())"
      ],
      "metadata": {
        "id": "f0pWnJhLEcxB"
      },
      "execution_count": null,
      "outputs": []
    },
    {
      "cell_type": "code",
      "source": [
        "# Transformações essenciais para o funcionamento\n",
        "df[\"Churn\"] =            df[\"Churn\"].map({\"No\": 0, \"Yes\": 1})\n",
        "df[\"PhoneService\"] =     df[\"PhoneService\"].map({\"No\": 0, \"Yes\": 1})\n",
        "df[\"MultipleLines\"] =    df[\"MultipleLines\"].map({\"No\": 0, \"Yes\": 1, \"No phone service\": 0})\n",
        "df[\"InternetService\"] =  df[\"InternetService\"].map({\"No\": 0, \"Fiber optic\": 1, \"DSL\": 1})\n",
        "df[\"OnlineSecurity\"] =   df[\"OnlineSecurity\"].map({\"No\": 0, \"Yes\": 1, \"No internet service\": 0})\n",
        "df[\"OnlineBackup\"] =     df[\"OnlineBackup\"].map({\"No\": 0, \"Yes\": 1, \"No internet service\": 0})\n",
        "df[\"DeviceProtection\"] = df[\"DeviceProtection\"].map({\"No\": 0, \"Yes\": 1, \"No internet service\": 0})\n",
        "df[\"TechSupport\"] =      df[\"TechSupport\"].map({\"No\": 0, \"Yes\": 1, \"No internet service\": 0})\n",
        "df[\"StreamingTV\"] =      df[\"StreamingTV\"].map({\"No\": 0, \"Yes\": 1, \"No internet service\": 0})\n",
        "df[\"StreamingMovies\"] =  df[\"StreamingMovies\"].map({\"No\": 0, \"Yes\": 1, \"No internet service\": 0})\n",
        "df[\"PaymentMethod\"] =    df[\"PaymentMethod\"].map({\"Electronic check\": 0, \"Mailed check\": 1, \"Bank transfer (automatic)\": 2, \"Credit card (automatic)\": 3})\n",
        "df[\"Contract\"] =         df[\"Contract\"].map({\"Month-to-month\": 0, \"One year\": 1, \"Two year\": 2})\n",
        "df['TotalCharges'] =     pd.to_numeric(df['TotalCharges'].str.strip(), errors='coerce')\n",
        "df[\"Mes\"] = 73 - df[\"tenure\"]"
      ],
      "metadata": {
        "id": "MXlmxR4kEgBx"
      },
      "execution_count": null,
      "outputs": []
    },
    {
      "cell_type": "markdown",
      "source": [
        "## ⏳ **Histórico** ⏳"
      ],
      "metadata": {
        "id": "l4jkfObjGg0P"
      }
    },
    {
      "cell_type": "code",
      "source": [
        "# Histograma - Entrada de clientes por mês\n",
        "plt.figure(figsize=(8, 6))\n",
        "plt.hist(df['Mes'], bins=50, color='green', alpha=0.8)\n",
        "plt.title('Histograma - Entrada de clientes')\n",
        "plt.xlabel('Mês')\n",
        "plt.xticks(ticks=range(0, int(df['Mes'].max())+10, 10))\n",
        "plt.ylabel('Novos Clientes')\n",
        "plt.grid(True)\n",
        "plt.show()\n",
        "\n",
        "print((df['Mes']==71).sum())"
      ],
      "metadata": {
        "id": "j7tH5YLgGk3p"
      },
      "execution_count": null,
      "outputs": []
    },
    {
      "cell_type": "markdown",
      "source": [
        "# 📈 **Modelos e Aplicação** 📈"
      ],
      "metadata": {
        "id": "KzmuGHt2Ej44"
      }
    },
    {
      "cell_type": "markdown",
      "source": [
        "## 💸 **Quanto um cliente vai ter gasto com o passar dos meses** 💸"
      ],
      "metadata": {
        "id": "rQdMSFimFgoM"
      }
    },
    {
      "cell_type": "code",
      "source": [
        "# Treinando modelo de regressão linear para prever quanto um cliente vai ter gasto com o passar dos meses\n",
        "df = df.dropna(subset=['TotalCharges'])\n",
        "\n",
        "# Definir variáveis preditoras (X) e alvo (Y)\n",
        "X = df[['tenure']]  # Preditor\n",
        "Y = df['TotalCharges']  # Prever\n",
        "\n",
        "# Dividir dados: Treinamento e Teste\n",
        "X_train, X_test, Y_train, Y_test = train_test_split(X, Y, test_size=0.2, random_state=42)\n",
        "\n",
        "# Criar e treinar modelo - Regressão Linear\n",
        "modelo_lr = LinearRegression()\n",
        "modelo_lr.fit(X_train, Y_train)\n",
        "\n",
        "# Prever valores de teste\n",
        "Y_prev = modelo_lr.predict(X_test)\n",
        "\n",
        "# Métricas de avaliação\n",
        "r2 = r2_score(Y_test, Y_prev)\n",
        "print(f'Coeficiente de Determinação - R²: {r2:.2f}')\n",
        "\n",
        "# Calcular RMSE corretamente\n",
        "rmse = mean_squared_error(Y_test, Y_prev)\n",
        "print(f'Raiz do Erro Quadrático Médio - RMSE: {rmse:.2f}')\n",
        "print(f'Desvio Padrão do campo TotalCharges: {df[\"TotalCharges\"].std():.2f}')"
      ],
      "metadata": {
        "id": "afNP0VTQE0Tf"
      },
      "execution_count": null,
      "outputs": []
    },
    {
      "cell_type": "code",
      "source": [
        "# Salvar modelo treinado - mudar o local de salvamento de acordo com a necessidade\n",
        "joblib.dump(modelo_lr, filename='/content/drive/MyDrive/Colab Notebooks/Output/modelo_gasto_cliente.pkl')"
      ],
      "metadata": {
        "id": "K2HNW40oFOzj"
      },
      "execution_count": null,
      "outputs": []
    },
    {
      "cell_type": "code",
      "source": [
        "# Aplicando o modelo treinado - mudar o local de acesso de acordo com a necessidade\n",
        "modelo_carregado = joblib.load('/content/drive/MyDrive/Colab Notebooks/Output/modelo_gasto_cliente.pkl')\n",
        "mes_de_previsao = pd.DataFrame({\n",
        "    'tenure': [60]\n",
        "})\n",
        "val_previsto = modelo_carregado.predict(mes_de_previsao)\n",
        "print(np.round(val_previsto))"
      ],
      "metadata": {
        "id": "5cgU84QYFQPE",
        "colab": {
          "base_uri": "https://localhost:8080/"
        },
        "outputId": "d6fe2170-b9ac-492d-c9da-b9208e44800c"
      },
      "execution_count": null,
      "outputs": [
        {
          "output_type": "stream",
          "name": "stdout",
          "text": [
            "[4383.]\n"
          ]
        }
      ]
    },
    {
      "cell_type": "markdown",
      "source": [
        "## 💰 **Previsão de Faturamento Mensal** 💰"
      ],
      "metadata": {
        "id": "R-yF5crsi8Zt"
      }
    },
    {
      "cell_type": "code",
      "source": [
        "# Faturamento Mensal - Agrupar por \"Mes\" e somar os \"MonthlyCharges\"\n",
        "soma_por_mes = df.groupby(\"Mes\")[\"MonthlyCharges\"].sum().sort_index()\n",
        "\n",
        "# Fazer a soma acumulada\n",
        "soma_acumulada = soma_por_mes.cumsum()\n",
        "\n",
        "# Criar novo DataFrame\n",
        "df_faturamento = pd.DataFrame({\n",
        "    \"Mes\": soma_acumulada.index,\n",
        "    \"Faturamento\": soma_acumulada.values\n",
        "})\n",
        "\n",
        "# Visualizar\n",
        "print(df_faturamento.head())"
      ],
      "metadata": {
        "id": "jD_uWio_jrXn"
      },
      "execution_count": null,
      "outputs": []
    },
    {
      "cell_type": "code",
      "source": [
        "# Gráfico de faturamento Mensal - execute a célula anterior antes\n",
        "# Função para formatar os valores em \"mil\"\n",
        "def em_mil(x, pos):\n",
        "    return f'{int(x/1000)} mil'\n",
        "\n",
        "plt.figure(figsize=(12, 6))\n",
        "plt.plot(df_faturamento[\"Mes\"], df_faturamento[\"Faturamento\"], marker='o', color='royalblue')\n",
        "plt.title(\"Faturamento Mensal\")\n",
        "plt.xlabel(\"Mês\")\n",
        "plt.ylabel(\"Faturamento (R$)\")\n",
        "\n",
        "# Aplicar formatação no eixo Y\n",
        "plt.gca().yaxis.set_major_formatter(FuncFormatter(em_mil))\n",
        "\n",
        "plt.grid(True)\n",
        "plt.tight_layout()\n",
        "plt.show()"
      ],
      "metadata": {
        "colab": {
          "base_uri": "https://localhost:8080/",
          "height": 607
        },
        "id": "2cmEih72oepO",
        "outputId": "954898a4-23a7-4c20-e059-942e9706d130"
      },
      "execution_count": null,
      "outputs": [
        {
          "output_type": "display_data",
          "data": {
            "text/plain": [
              "<Figure size 1200x600 with 1 Axes>"
            ],
            "image/png": "[encoded data removed]"
          },
          "metadata": {}
        }
      ]
    },
    {
      "cell_type": "code",
      "source": [
        "# Relação entre Faturamento e Mes\n",
        "plt.figure(figsize=(5, 5))\n",
        "corr = df_faturamento[['Mes', 'Faturamento']].corr()\n",
        "print(corr)"
      ],
      "metadata": {
        "id": "05SYQ4Fap4I2"
      },
      "execution_count": null,
      "outputs": []
    },
    {
      "cell_type": "code",
      "source": [
        "# Treinando modelo de regressão linear para prever o faturamento dos próximos meses\n",
        "\n",
        "# Definir variáveis preditoras (X) e alvo (Y)\n",
        "X = df_faturamento[['Mes']]  # Preditor\n",
        "Y = df_faturamento['Faturamento']  # Prever\n",
        "\n",
        "# Dividir dados: Treinamento e Teste\n",
        "X_train, X_test, Y_train, Y_test = train_test_split(X, Y, test_size=0.2, random_state=42)\n",
        "\n",
        "# Criar e treinar modelo - Regressão Linear\n",
        "modelo_lr = LinearRegression()\n",
        "modelo_lr.fit(X_train, Y_train)\n",
        "\n",
        "# Prever valores de teste\n",
        "Y_prev = modelo_lr.predict(X_test)\n",
        "\n",
        "# Métricas de avaliação\n",
        "r2 = r2_score(Y_test, Y_prev)\n",
        "print(f'Coeficiente de Determinação - R²: {r2:.2f}')\n",
        "\n",
        "# Calcular RMSE corretamente\n",
        "rmse = mean_squared_error(Y_test, Y_prev)\n",
        "print(f'Raiz do Erro Quadrático Médio - RMSE: {rmse:.2f}')\n",
        "print(f'Desvio Padrão do campo Faturamento: {df_faturamento[\"Faturamento\"].std():.2f}')"
      ],
      "metadata": {
        "id": "j1i0ynVCpDkW"
      },
      "execution_count": null,
      "outputs": []
    },
    {
      "cell_type": "code",
      "source": [
        "# Salvar modelo treinado - mudar o local de salvamento de acordo com a necessidade\n",
        "joblib.dump(modelo_lr, filename='/content/drive/MyDrive/Colab Notebooks/Output/modelo_faturamento.pkl')"
      ],
      "metadata": {
        "id": "5ttuGKSaqPQx"
      },
      "execution_count": null,
      "outputs": []
    },
    {
      "cell_type": "code",
      "source": [
        "# Aplicando o modelo treinado - mudar o local de acesso de acordo com a necessidade\n",
        "modelo_carregado = joblib.load('/content/drive/MyDrive/Colab Notebooks/Output/modelo_faturamento.pkl')\n",
        "mes_de_previsao = pd.DataFrame({\n",
        "    'Mes': [59]\n",
        "})\n",
        "val_previsto = modelo_carregado.predict(mes_de_previsao)\n",
        "print(np.round(val_previsto))"
      ],
      "metadata": {
        "id": "Q0DNIJvSqRb0"
      },
      "execution_count": null,
      "outputs": []
    }
  ]
}